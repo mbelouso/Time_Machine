{
 "cells": [
  {
   "cell_type": "code",
   "execution_count": 14,
   "metadata": {},
   "outputs": [
    {
     "name": "stdout",
     "output_type": "stream",
     "text": [
      "2.2.4\n"
     ]
    }
   ],
   "source": [
    "import gpiod\n",
    "print(gpiod.__version__)"
   ]
  },
  {
   "cell_type": "code",
   "execution_count": 15,
   "metadata": {},
   "outputs": [
    {
     "name": "stdout",
     "output_type": "stream",
     "text": [
      "['Chip', 'ChipClosedError', 'ChipInfo', 'EdgeEvent', 'InfoEvent', 'LineRequest', 'LineSettings', 'RequestReleasedError', '__builtins__', '__cached__', '__doc__', '__file__', '__loader__', '__name__', '__package__', '__path__', '__spec__', '__version__', '_ext', 'api_version', 'chip', 'chip_info', 'edge_event', 'exception', 'info_event', 'internal', 'is_gpiochip_device', 'line', 'line_info', 'line_request', 'line_settings', 'request_lines', 'version']\n"
     ]
    }
   ],
   "source": [
    "import gpiod\n",
    "print(dir(gpiod))"
   ]
  },
  {
   "cell_type": "code",
   "execution_count": 16,
   "metadata": {},
   "outputs": [
    {
     "name": "stdout",
     "output_type": "stream",
     "text": [
      "['__annotations__', '__class__', '__dataclass_fields__', '__dataclass_params__', '__delattr__', '__dict__', '__dir__', '__doc__', '__eq__', '__format__', '__ge__', '__getattribute__', '__gt__', '__hash__', '__init__', '__init_subclass__', '__le__', '__lt__', '__module__', '__ne__', '__new__', '__reduce__', '__reduce_ex__', '__repr__', '__setattr__', '__sizeof__', '__str__', '__subclasshook__', '__weakref__', 'active_low', 'bias', 'debounce_period', 'direction', 'drive', 'edge_detection', 'event_clock', 'output_value']\n"
     ]
    }
   ],
   "source": [
    "import gpiod\n",
    "print(dir(gpiod.LineSettings))"
   ]
  },
  {
   "cell_type": "code",
   "execution_count": 17,
   "metadata": {},
   "outputs": [],
   "source": [
    "# 1 LED working code\n",
    "\n",
    "import gpiod\n",
    "import time\n",
    "\n",
    "# Define the GPIO pin and chip\n",
    "LED_PIN = 18\n",
    "CHIP_PATH = \"/dev/gpiochip4\"\n",
    "\n",
    "# Create a line settings object\n",
    "config = gpiod.LineSettings()\n",
    "\n",
    "# Instead of using a string, we use the available attributes\n",
    "config.direction = gpiod.line_settings.Direction.OUTPUT  # Correct way\n",
    "config.output_value = gpiod.line_settings.Value.INACTIVE  # Set initial value to 0\n",
    "\n",
    "# Request the GPIO line\n",
    "request = gpiod.request_lines(\n",
    "    CHIP_PATH,\n",
    "    consumer=\"myLed\",\n",
    "    config={LED_PIN: config}\n",
    ")\n",
    "\n",
    "try:\n",
    "    while True:\n",
    "        request.set_value(LED_PIN, gpiod.line_settings.Value.ACTIVE)  # Turn LED on\n",
    "        time.sleep(1)\n",
    "        request.set_value(LED_PIN, gpiod.line_settings.Value.INACTIVE)  # Turn LED off\n",
    "        time.sleep(1)\n",
    "except KeyboardInterrupt:\n",
    "    pass\n",
    "finally:\n",
    "    request.release()  # Properly release the request"
   ]
  },
  {
   "cell_type": "code",
   "execution_count": null,
   "metadata": {},
   "outputs": [],
   "source": [
    "import gpiod\n",
    "import time\n",
    "\n",
    "# Define the GPIO pins for the LEDs\n",
    "LED_PINS = [18, 23, 24]  # Update these if needed\n",
    "CHIP_PATH = \"/dev/gpiochip4\"\n",
    "\n",
    "# Create line settings for all LEDs\n",
    "config = gpiod.LineSettings()\n",
    "config.direction = gpiod.line_settings.Direction.OUTPUT\n",
    "config.output_value = gpiod.line_settings.Value.INACTIVE  # Start all LEDs off\n",
    "\n",
    "# Request all GPIO lines\n",
    "request = gpiod.request_lines(\n",
    "    CHIP_PATH,\n",
    "    consumer=\"LED_Controller\",\n",
    "    config={pin: config for pin in LED_PINS}\n",
    ")\n",
    "\n",
    "try:\n",
    "    while True:\n",
    "        for pin in LED_PINS:\n",
    "            request.set_value(pin, gpiod.line_settings.Value.ACTIVE)   # Turn LED on\n",
    "            time.sleep(0.1)  # 200ms delay\n",
    "            request.set_value(pin, gpiod.line_settings.Value.INACTIVE)  # Turn LED off\n",
    "except KeyboardInterrupt:\n",
    "    pass\n",
    "finally:\n",
    "    for pin in LED_PINS:\n",
    "        request.set_value(pin, gpiod.line_settings.Value.INACTIVE)      # If this isn't active, then one of the LEDs will stay on.\n",
    "    request.release()  # Properly release the request\n",
    "    \n"
   ]
  }
 ],
 "metadata": {
  "kernelspec": {
   "display_name": "automation",
   "language": "python",
   "name": "python3"
  },
  "language_info": {
   "codemirror_mode": {
    "name": "ipython",
    "version": 3
   },
   "file_extension": ".py",
   "mimetype": "text/x-python",
   "name": "python",
   "nbconvert_exporter": "python",
   "pygments_lexer": "ipython3",
   "version": "3.9.21"
  }
 },
 "nbformat": 4,
 "nbformat_minor": 2
}
